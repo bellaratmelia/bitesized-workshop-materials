{
 "cells": [
  {
   "cell_type": "code",
   "execution_count": null,
   "metadata": {
    "id": "pBWUWUTGHFIF"
   },
   "outputs": [],
   "source": [
    "print(\"This is a code cell, whatever output this cell produces will be displayed in the cell below\")"
   ]
  },
  {
   "cell_type": "markdown",
   "metadata": {
    "id": "BcJqC9FHHFIQ"
   },
   "source": [
    "**This a markdown cell**\n",
    "Markdown is a markup language to format text. \n",
    "Markdown cells produces no output, this is typically where you put your explanations/commentary on the notebook.\n"
   ]
  },
  {
   "cell_type": "markdown",
   "metadata": {
    "id": "9BR0bQYpQghJ"
   },
   "source": [
    "# Arithmetic Operations"
   ]
  },
  {
   "cell_type": "code",
   "execution_count": null,
   "metadata": {
    "id": "DhVkthbKHFIW"
   },
   "outputs": [],
   "source": [
    "5 + 5  # if you execute this cell, it should print out 10"
   ]
  },
  {
   "cell_type": "markdown",
   "metadata": {},
   "source": [
    "* Python has a built-in function called print that prints things as text. Call the function (i.e., tell Python to run it) by using its name."
   ]
  },
  {
   "cell_type": "code",
   "execution_count": null,
   "metadata": {
    "id": "aA0zvg_MHFIa",
    "scrolled": true
   },
   "outputs": [],
   "source": [
    "print(10 - 5)\n",
    "print(10 * 2)\n",
    "print(\"hello world\")"
   ]
  },
  {
   "cell_type": "markdown",
   "metadata": {
    "id": "dlCMl4vsOKfo"
   },
   "source": [
    "# Pt1 Variables"
   ]
  },
  {
   "cell_type": "markdown",
   "metadata": {},
   "source": [
    "* Variables are names for values.\n",
    "* In Python, the = symbol assigns the value on the right to the variable on the left.\n",
    "  * in the example below, the value of 'greetings' is now 'hello world'\n",
    "* The variable is created only when a value is assigned to it."
   ]
  },
  {
   "cell_type": "code",
   "execution_count": null,
   "metadata": {
    "id": "17F_B61PHFIt"
   },
   "outputs": [],
   "source": [
    "greetings = \"Hello World!\"\n",
    "age = 18"
   ]
  },
  {
   "cell_type": "markdown",
   "metadata": {},
   "source": [
    "Variable names:\n",
    "* cannot start with a digit\n",
    "* cannot contain spaces, quotation marks, or other punctuation\n",
    "* can contain an underscore (typically used to separate words in long variable names)\n",
    "* case sensitive!\n",
    "* should be meaningful!\n",
    "* You can also ask the user to specify the value (input) and save it to a variable."
   ]
  },
  {
   "cell_type": "code",
   "execution_count": null,
   "metadata": {
    "id": "PkFy8Cr7HFIo"
   },
   "outputs": [],
   "source": [
    "name = input(\"what's your name? \")"
   ]
  },
  {
   "cell_type": "markdown",
   "metadata": {},
   "source": [
    "* you can also use print() to print out a variable's value\n",
    "* put the variable name inside the bracket. \n",
    "* The things we passed to the function (the things inside the brackets) are called ‘arguments’ (more on this later)"
   ]
  },
  {
   "cell_type": "code",
   "execution_count": null,
   "metadata": {},
   "outputs": [],
   "source": [
    "print(name)\n",
    "print(\"They said their name is \", name)"
   ]
  },
  {
   "cell_type": "markdown",
   "metadata": {},
   "source": [
    "* Variables must be created before they are used.\n",
    "* If a variable doesn’t exist yet, or if the name has been mis-spelled, Python reports an error. "
   ]
  },
  {
   "cell_type": "code",
   "execution_count": null,
   "metadata": {},
   "outputs": [],
   "source": [
    "print(random_variable) # if you try to execute this, it will give you an error"
   ]
  },
  {
   "cell_type": "markdown",
   "metadata": {},
   "source": [
    "* IMPORTANT: the order of execution **matters**\n",
    "* Cells are used to organize your code, not necessarily show the order of execution (but of course, ideally your cells are organized in order of execution so as not to confuse yourself)"
   ]
  },
  {
   "cell_type": "markdown",
   "metadata": {},
   "source": [
    "* Variables can be used in calculations! We can use variables in calculations just as if they were values. "
   ]
  },
  {
   "cell_type": "code",
   "execution_count": null,
   "metadata": {},
   "outputs": [],
   "source": [
    "age = age + 10\n",
    "print(\"Age in ten years:\", age)"
   ]
  },
  {
   "cell_type": "markdown",
   "metadata": {},
   "source": [
    "**IMPORTANT**\n",
    "* Use meaningful variable names to help other people understand what the program does. The most important “other person” is your future self.\n",
    "* avoid using one-character variable names like \"x\", \"y\". "
   ]
  },
  {
   "cell_type": "markdown",
   "metadata": {},
   "source": [
    "* You can also assign a variable value to another variable"
   ]
  },
  {
   "cell_type": "code",
   "execution_count": null,
   "metadata": {},
   "outputs": [],
   "source": [
    "sign = \"North\"\n",
    "direction = sign # assign \"sign\" value to direction\n",
    "print(direction, sign) # now both direction and sign has the same value!"
   ]
  },
  {
   "cell_type": "markdown",
   "metadata": {},
   "source": [
    "### Quiz: What is the final value of variable `color_1` below?"
   ]
  },
  {
   "cell_type": "code",
   "execution_count": null,
   "metadata": {},
   "outputs": [],
   "source": [
    "color_1 = \"blue\"\n",
    "color_2 = \"red\"\n",
    "temp = color_1\n",
    "color_1 = color_2\n",
    "color_2 = temp"
   ]
  },
  {
   "cell_type": "markdown",
   "metadata": {
    "id": "gAYk4F3cOY-j"
   },
   "source": [
    "# Pt2 Data Types and Conversion"
   ]
  },
  {
   "cell_type": "markdown",
   "metadata": {},
   "source": [
    "Every value has a data type. Common types:\n",
    "* Integer (int): whole numbers like 3 or -512.\n",
    "* Floating point number (float): fractional numbers like 3.14159 or -2.5. Whole numbers may also be stored as floats, e.g. 1.0.\n",
    "* Character string (usually called “string”, str): text.\n",
    "  * Written in either single quotes or double quotes (as long as they match).\n",
    "  * The quotation marks aren’t printed using print(), but may appear when viewing a value in the Jupyter Notebook or other Python interpreter.\n",
    "* Boolean, which is either True or False\n"
   ]
  },
  {
   "cell_type": "code",
   "execution_count": null,
   "metadata": {
    "id": "c7vl8oHzOVs9"
   },
   "outputs": [],
   "source": [
    "age = 18 #integer\n",
    "height = 164.66 #float\n",
    "name = \"Edward Elric\" #string\n",
    "is_alchemist = True #Boolean"
   ]
  },
  {
   "cell_type": "markdown",
   "metadata": {},
   "source": [
    "\n",
    "* Use the built-in function type to find out what type a value or a variable has.\n",
    "* Remember, when you change the value of a variable to a new data type, the results of print(type(your_variable)) will change accordingly.\n"
   ]
  },
  {
   "cell_type": "code",
   "execution_count": null,
   "metadata": {},
   "outputs": [],
   "source": [
    "type(is_alchemist) # this should print out Boolean"
   ]
  },
  {
   "cell_type": "code",
   "execution_count": null,
   "metadata": {},
   "outputs": [],
   "source": [
    "is_alchemist = \"True\"\n",
    "print(type(is_alchemist)) # now this should be a string!"
   ]
  },
  {
   "cell_type": "markdown",
   "metadata": {},
   "source": [
    "* Why care about data type? Because a value’s data type determines what the program can do to it."
   ]
  },
  {
   "cell_type": "code",
   "execution_count": null,
   "metadata": {},
   "outputs": [],
   "source": [
    "print(age - 5) # do calculations on int"
   ]
  },
  {
   "cell_type": "code",
   "execution_count": null,
   "metadata": {},
   "outputs": [],
   "source": [
    "print(name - \"Elric\") # but that won't work on a string"
   ]
  },
  {
   "cell_type": "markdown",
   "metadata": {},
   "source": [
    "However you can use \"+\" and \"*\" on strings"
   ]
  },
  {
   "cell_type": "code",
   "execution_count": null,
   "metadata": {},
   "outputs": [],
   "source": [
    "print(name + \" The Alchemist\") # this works for string, though."
   ]
  },
  {
   "cell_type": "code",
   "execution_count": null,
   "metadata": {},
   "outputs": [],
   "source": [
    "print(name * 4) # this also works"
   ]
  },
  {
   "cell_type": "code",
   "execution_count": null,
   "metadata": {},
   "outputs": [],
   "source": [
    "print(\"=\" * 10) # this also works"
   ]
  },
  {
   "cell_type": "markdown",
   "metadata": {},
   "source": [
    "Strings have length, but numbers don't"
   ]
  },
  {
   "cell_type": "code",
   "execution_count": null,
   "metadata": {},
   "outputs": [],
   "source": [
    "len(name) # this would print out the number of characters a string has"
   ]
  },
  {
   "cell_type": "code",
   "execution_count": null,
   "metadata": {},
   "outputs": [],
   "source": [
    "len(age) # this should give you an error"
   ]
  },
  {
   "cell_type": "markdown",
   "metadata": {},
   "source": [
    "* Some data types need to be converted before we can do some operations on them"
   ]
  },
  {
   "cell_type": "code",
   "execution_count": null,
   "metadata": {},
   "outputs": [],
   "source": [
    "print(\"10\" + 2) #this will give us an error!"
   ]
  },
  {
   "cell_type": "code",
   "execution_count": null,
   "metadata": {},
   "outputs": [],
   "source": [
    "print(\"10\" + str(2)) # either we convert them all to string\n",
    "print(int(10) + 2) # or we convert them to int"
   ]
  },
  {
   "cell_type": "markdown",
   "metadata": {},
   "source": [
    "### Quiz: what do you think is the result of the following operation?"
   ]
  },
  {
   "cell_type": "code",
   "execution_count": null,
   "metadata": {},
   "outputs": [],
   "source": [
    "type(print(10 * 2.54)) # if an integer is calculated against a float, what do you think the end result will be?"
   ]
  },
  {
   "cell_type": "markdown",
   "metadata": {},
   "source": [
    "Take note of the execution order of your variables! They only change value when something is assigned to them. "
   ]
  },
  {
   "cell_type": "code",
   "execution_count": null,
   "metadata": {},
   "outputs": [],
   "source": [
    "score = 20 # initial value of score\n",
    "fixed_score = score * 5\n",
    "score = 18 # we update the score\n",
    "print(score, fixed_score) # fixed_score will not be updated to 18 * 5"
   ]
  },
  {
   "cell_type": "markdown",
   "metadata": {},
   "source": [
    "# Pt3 Built-in functions, Help, and beginner best practices"
   ]
  },
  {
   "cell_type": "markdown",
   "metadata": {},
   "source": [
    "Use comments to add documentation to programs."
   ]
  },
  {
   "cell_type": "code",
   "execution_count": null,
   "metadata": {},
   "outputs": [],
   "source": [
    "# This sentence isn't executed by Python.\n",
    "greetings = \"Good afternoon\"   # anything after '#' is ignored."
   ]
  },
  {
   "cell_type": "markdown",
   "metadata": {},
   "source": [
    "There are many built-in function that we can use, one of the common one is ``round()`` which will round a float number to the nearest integer.\n",
    "\n",
    "some functions accept **arguments**, and we put them inside the brackets when we pass it to the function. It's like telling the function \"do what you're supposed to do with this arguments I pass to you\". Some may also call it parameters. so in this example:\n",
    "\n",
    "``round(3.14)``\n",
    "\n",
    "``3.14`` is the argument. Of course we can pass a variable as arguments too! e.g. ``round(height)``"
   ]
  },
  {
   "cell_type": "markdown",
   "metadata": {},
   "source": [
    "some functions can take more than one arguments! we've seen this with `print()` earlier\n",
    "\n",
    "If you're not sure what kind of parameters/arguments are accepted, etc, use the `help()` function. This example below should tell you more about `round()` once executed"
   ]
  },
  {
   "cell_type": "code",
   "execution_count": null,
   "metadata": {},
   "outputs": [],
   "source": [
    "help(round)"
   ]
  },
  {
   "cell_type": "markdown",
   "metadata": {
    "id": "10UzRC60QxO-"
   },
   "source": [
    "# Pt4 Lists"
   ]
  },
  {
   "cell_type": "markdown",
   "metadata": {},
   "source": [
    "Scenario: Edward The Alchemist is setting up a tracker to take note of number of visits to his personal website every day. He plans to do this for 1 year. \n",
    "* If he is saving the number of visits each day into a variable, by the end of the year he will have 365 variables!\n",
    "* Very difficult to do any calculations on these...\n",
    "* This is where a `list` will come in handy! List can store many values together in a single variable.\n",
    "  * Contained within square brackets [...].\n",
    "  * Values separated by commas.\n",
    "* Use `len()` to find out how many values are stored in a list."
   ]
  },
  {
   "cell_type": "code",
   "execution_count": null,
   "metadata": {},
   "outputs": [],
   "source": [
    "visits = [100, 200, 300, 400, 500] # number of visits for 5 days\n",
    "print('visits:', visits)\n",
    "print('length:', len(visits))"
   ]
  },
  {
   "cell_type": "markdown",
   "metadata": {},
   "source": [
    "Use square bracket and index number item to retrieve a list. Remember that index starts from 0 instead of 1. So if you want to retrieve the fourth item, the index will be 3. "
   ]
  },
  {
   "cell_type": "code",
   "execution_count": null,
   "metadata": {},
   "outputs": [],
   "source": [
    "print('visits on day 1:', visits[0])\n",
    "print('visits on day 5:', visits[4])"
   ]
  },
  {
   "cell_type": "markdown",
   "metadata": {},
   "source": [
    "List values can be replaced by simply assigning value to them. Below, we changed the value of the fourth item to 450."
   ]
  },
  {
   "cell_type": "code",
   "execution_count": null,
   "metadata": {},
   "outputs": [],
   "source": [
    "visits[3] = 450\n",
    "print('visits now:', visits)"
   ]
  },
  {
   "cell_type": "markdown",
   "metadata": {},
   "source": [
    "what happens if we try to retrieve index that doesn't exists?"
   ]
  },
  {
   "cell_type": "code",
   "execution_count": null,
   "metadata": {},
   "outputs": [],
   "source": [
    "visits[100]"
   ]
  },
  {
   "cell_type": "markdown",
   "metadata": {},
   "source": [
    "you can append to list"
   ]
  },
  {
   "cell_type": "code",
   "execution_count": null,
   "metadata": {},
   "outputs": [],
   "source": [
    "print('visits is initially:', visits)\n",
    "visits.append(600)\n",
    "print('visits has become:', visits)"
   ]
  },
  {
   "cell_type": "markdown",
   "metadata": {},
   "source": [
    "you can also insert things on the list by specifying which index where you want it to be inserted and the value. "
   ]
  },
  {
   "cell_type": "code",
   "execution_count": null,
   "metadata": {},
   "outputs": [],
   "source": [
    "print('visits is initially:', visits)\n",
    "visits.insert(5, 777)\n",
    "print('visits has become:', visits)"
   ]
  },
  {
   "cell_type": "markdown",
   "metadata": {},
   "source": [
    "you can also remove items from list"
   ]
  },
  {
   "cell_type": "code",
   "execution_count": null,
   "metadata": {},
   "outputs": [],
   "source": [
    "print('visits is initially:', visits)\n",
    "del visits[5]\n",
    "print('visits has become:', visits)"
   ]
  },
  {
   "cell_type": "markdown",
   "metadata": {},
   "source": [
    "You can also slice a list! This is when you just want to get a portion of a list. "
   ]
  },
  {
   "cell_type": "code",
   "execution_count": null,
   "metadata": {},
   "outputs": [],
   "source": [
    "visits[0:3] # get the items at  index number 0, 1, 2 (index 3 will be omitted)"
   ]
  },
  {
   "cell_type": "code",
   "execution_count": null,
   "metadata": {},
   "outputs": [],
   "source": [
    "visits[-1] # get the last item on the list"
   ]
  },
  {
   "cell_type": "markdown",
   "metadata": {},
   "source": [
    "you can also initialize empty list by declaring it with []"
   ]
  },
  {
   "cell_type": "code",
   "execution_count": null,
   "metadata": {},
   "outputs": [],
   "source": [
    "ingredients_list = []"
   ]
  },
  {
   "cell_type": "markdown",
   "metadata": {},
   "source": [
    "you can include values of different types in a list"
   ]
  },
  {
   "cell_type": "code",
   "execution_count": null,
   "metadata": {},
   "outputs": [],
   "source": [
    "ingredients_list = [1, \"red stone\", 2, \"blue stones\", 4, \"yellow stones\"]\n",
    "ingredients_list"
   ]
  },
  {
   "cell_type": "markdown",
   "metadata": {
    "id": "QGoeaqy3VQG0"
   },
   "source": [
    "# Pt5 For Loops"
   ]
  },
  {
   "cell_type": "markdown",
   "metadata": {},
   "source": [
    "Continuing from the above scenario, Edward wants to print the number of visits each day. To make it readable, he wants to print it in this format: \"100 visits\". Doing it manually will be tedious if his list is very long!\n",
    "\n",
    "This is where a `For Loop` comes in handy!\n",
    "\n",
    "A for loop executes commands once for each value in a collection. It is basically telling python: *“for each thing in this group, do these operations”*"
   ]
  },
  {
   "cell_type": "code",
   "execution_count": null,
   "metadata": {
    "id": "peSG4Ca2VSMO"
   },
   "outputs": [],
   "source": [
    "for day in visits:\n",
    "    print(day, \" visits\")"
   ]
  },
  {
   "cell_type": "markdown",
   "metadata": {},
   "source": [
    "Anatomy of loops explained using the example above:\n",
    "* `visits` --> The collection, is what the loop is being run on.\n",
    "* `print(day, \" visits\")` --> The body, specifies what to do for each item in the collection.\n",
    "* `day` --> The loop variable, day, is what changes for each iteration of the loop. you can think of it as the “current thing”. \n",
    "* The body of a loop can contain many statements. But no loop should be more than a few lines long. Hard for human beings to keep larger chunks of code in mind.\n",
    "\n",
    "Key things:\n",
    "* The first line of the for loop **must** end with a colon, and the body **must be indented**.\n",
    "* **Indentation is always meaningful in Python.** (the common convention is to indent with tabs)"
   ]
  },
  {
   "cell_type": "markdown",
   "metadata": {},
   "source": [
    "If you just want to execute a piece of code x amount of times, you can use the built-in function ``range()``\n",
    "\n",
    "Below is an example of summing up a list of numbers"
   ]
  },
  {
   "cell_type": "code",
   "execution_count": null,
   "metadata": {},
   "outputs": [],
   "source": [
    "total = 0 # declare a variable to contain the summed number\n",
    "for number in range(0, 10): # 0 = the start number. The end number here will be 9 because 10 will be omitted\n",
    "    total = (number + 1) + total\n",
    "\n",
    "print(total)"
   ]
  },
  {
   "cell_type": "markdown",
   "metadata": {
    "id": "KNcF58QFTRJl"
   },
   "source": [
    "# Pt6 Conditionals (If-Else)"
   ]
  },
  {
   "cell_type": "markdown",
   "metadata": {},
   "source": [
    "Conditionals or If-Else statements is used to control whether or not a block of code is executed.\n",
    "\n",
    "The structure is similar to a For Loop:\n",
    "  * First line opens with if and ends with a colon\n",
    "  * Body containing one or more statements is indented"
   ]
  },
  {
   "cell_type": "code",
   "execution_count": null,
   "metadata": {
    "id": "oFzLQtjXTTO9"
   },
   "outputs": [],
   "source": [
    "mass = 1\n",
    "if mass > 3.0: # check if mass is more than 3.0\n",
    "    print(mass, 'is larger') # mass is NOT larger than 3, therefore this piece of code will not be executed."
   ]
  },
  {
   "cell_type": "markdown",
   "metadata": {},
   "source": [
    "Conditionals are often used inside loops. Going back to the example above, let's say Edward wants the code to print only the days when the visitors are more than 400."
   ]
  },
  {
   "cell_type": "code",
   "execution_count": null,
   "metadata": {},
   "outputs": [],
   "source": [
    "for v in visits:\n",
    "    if v > 400:\n",
    "        print(\"a lot of visitors! total:\", v)"
   ]
  },
  {
   "cell_type": "markdown",
   "metadata": {},
   "source": [
    "You can add a catch-all statement, `else` in conditionals. The codes inside this catch-all will executed if none do f the conditions are satisfied."
   ]
  },
  {
   "cell_type": "code",
   "execution_count": null,
   "metadata": {},
   "outputs": [],
   "source": [
    "for v in visits:\n",
    "    if v > 400: # if this is true...\n",
    "        print(\"a lot of visitors! total:\", v) #... do this!\n",
    "    else: # otherwise...\n",
    "        print(\"not a lot of visitors... total:\", v) # ... do this one!"
   ]
  },
  {
   "cell_type": "markdown",
   "metadata": {},
   "source": [
    "What if you there are more than one conditioins?\n",
    "\n",
    "Use `elif` (short for “else if”) to specify additional tests. `elif` **must** be placed between `if` and `else` like so:"
   ]
  },
  {
   "cell_type": "code",
   "execution_count": null,
   "metadata": {},
   "outputs": [],
   "source": [
    "for v in visits:\n",
    "    if v > 400:\n",
    "        print(\"a lot of visitors! total:\", v)\n",
    "    elif v > 200:\n",
    "        print(\"not too bad! total:\", v)\n",
    "    else:\n",
    "        print(\"not a lot of visitors... total:\", v)"
   ]
  },
  {
   "cell_type": "markdown",
   "metadata": {},
   "source": [
    "**IMPORTANT**\n",
    "\n",
    "Python steps through the statement of the conditional in order, testing each in turn. So ordering matters!\n",
    "\n",
    "Let's see an example below. Because of the way the statements are structured, the grade here will be C when it should be B"
   ]
  },
  {
   "cell_type": "code",
   "execution_count": null,
   "metadata": {},
   "outputs": [],
   "source": [
    "grade = 85\n",
    "if grade >= 70: # check if grade is more than 70...\n",
    "    print('grade is C') # ... it does! It therefore executes this line of code and then call it a day. \n",
    "elif grade >= 80:\n",
    "    print('grade is B')\n",
    "elif grade >= 90:\n",
    "    print('grade is A')"
   ]
  }
 ],
 "metadata": {
  "colab": {
   "collapsed_sections": [],
   "name": "gentle-intro-python-data-analysis-with_answers.ipynb",
   "provenance": []
  },
  "kernelspec": {
   "display_name": "Python 3 (ipykernel)",
   "language": "python",
   "name": "python3"
  },
  "language_info": {
   "codemirror_mode": {
    "name": "ipython",
    "version": 3
   },
   "file_extension": ".py",
   "mimetype": "text/x-python",
   "name": "python",
   "nbconvert_exporter": "python",
   "pygments_lexer": "ipython3",
   "version": "3.9.7"
  }
 },
 "nbformat": 4,
 "nbformat_minor": 4
}
